{
 "cells": [
  {
   "cell_type": "code",
   "execution_count": 431,
   "metadata": {},
   "outputs": [],
   "source": [
    "import numpy as np\n",
    "import matplotlib.pyplot as plt\n",
    "import random\n",
    "import math\n",
    "import copy\n",
    "import time\n",
    "\n",
    "M = 10\n",
    "N = 10\n",
    "S = 10\n",
    "K = 10\n",
    "c = [1,2,3,4,5,6,7,8,9,10]\n",
    "r = [1,2,3,4,5,6,7,8,9,10]\n",
    "MUT_RATE = 0.05\n",
    "POP = 100\n",
    "GEN = 200\n",
    "POP_fitness = []\n"
   ]
  },
  {
   "cell_type": "code",
   "execution_count": 432,
   "metadata": {},
   "outputs": [],
   "source": [
    "# np array with 20 cell each cell has 3 element\n",
    "\n",
    "def init(POP):\n",
    "    pop = []\n",
    "    for i in range(POP):\n",
    "        s = np.zeros((S,3))\n",
    "        for j in range(S):\n",
    "            s[j][0] = random.randint(0, K)\n",
    "            s[j][1] = random.randint(0, M)\n",
    "            s[j][2] = random.randint(0, N)\n",
    "        pop.append(s.astype(int))\n",
    "    return pop\n"
   ]
  },
  {
   "cell_type": "code",
   "execution_count": 433,
   "metadata": {},
   "outputs": [],
   "source": [
    "def calculate_covered_cells(chromosome):\n",
    "    covered_cells = np.zeros((M+1,N+1))\n",
    "    for i in range(M+1):\n",
    "        for j in range(N+1):\n",
    "            for k in range(S):\n",
    "                if chromosome[k][0] != 0 and covered_cells[i][j] == 0:\n",
    "                    try:\n",
    "                        if math.sqrt((i - chromosome[k][1]) ** 2 + (j - chromosome[k][2]) ** 2) <= r[chromosome[k][0]-1]:\n",
    "                            covered_cells[i][j] = 1\n",
    "                    except:\n",
    "                        print(\"error\")\n",
    "                        print(chromosome[k][0])\n",
    "                        print(r[chromosome[k][0]-1])\n",
    "                        print(math.sqrt((i - chromosome[k][1]) ** 2 + (j - chromosome[k][2]) ** 2))\n",
    "                        print(i)\n",
    "                        print(j)\n",
    "                        print(k)\n",
    "                        print(chromosome[k][1])\n",
    "                        print(chromosome[k][2])\n",
    "                        print(chromosome)\n",
    "                        print(covered_cells)\n",
    "                        print(\"error\")\n",
    "    # print(covered_cells)\n",
    "    return covered_cells"
   ]
  },
  {
   "cell_type": "code",
   "execution_count": 434,
   "metadata": {},
   "outputs": [],
   "source": [
    "# claculate number of same individual\n",
    "def calculate_cost(choromosome):\n",
    "    cost = 0\n",
    "    for i in range(S):\n",
    "         if choromosome[i][0] == 0:\n",
    "            cost += 0\n",
    "         else:\n",
    "            cost += c[choromosome[i][0]-1]\n",
    "   #  print(cost)\n",
    "    return cost\n"
   ]
  },
  {
   "cell_type": "code",
   "execution_count": 435,
   "metadata": {},
   "outputs": [],
   "source": [
    "# calculate the fitness of each individual\n",
    "def calculate_fitness(chromosome):\n",
    "    fitness = 0\n",
    "    fitness += np.sum(calculate_covered_cells(chromosome))\n",
    "    fitness -= calculate_cost(chromosome)\n",
    "    # print(fitness)\n",
    "    return fitness"
   ]
  },
  {
   "cell_type": "code",
   "execution_count": 436,
   "metadata": {},
   "outputs": [],
   "source": [
    "def pop_fitness(population):\n",
    "    fitness = []\n",
    "    for i in range(len(population)):\n",
    "        fitness.append(calculate_fitness(population[i]))\n",
    "    return fitness"
   ]
  },
  {
   "cell_type": "code",
   "execution_count": 437,
   "metadata": {},
   "outputs": [],
   "source": [
    "# 1 point crossover\n",
    "def crossover1point(choromosome1, choromosome2):\n",
    "    child1 = copy.deepcopy(choromosome1)\n",
    "    child2 = copy.deepcopy(choromosome2)\n",
    "    index = random.randint(1, S - 1)\n",
    "    child1[index:] = choromosome2[index:]\n",
    "    child2[index:] = choromosome1[index:]\n",
    "    return child1, child2 \n",
    "\n"
   ]
  },
  {
   "cell_type": "code",
   "execution_count": 438,
   "metadata": {},
   "outputs": [],
   "source": [
    "# 4 point crossover\n",
    "def crossover4point(choromosome1, choromosome2):\n",
    "    child1 = copy.deepcopy(choromosome1)\n",
    "    child2 = copy.deepcopy(choromosome2)\n",
    "    index = random.sample(range(1, S - 1), 4)\n",
    "    index.sort()\n",
    "    child1[index[0]:index[1]] = choromosome2[index[0]:index[1]]\n",
    "    child1[index[2]:index[3]] = choromosome2[index[2]:index[3]]\n",
    "    child2[index[0]:index[1]] = choromosome1[index[0]:index[1]]\n",
    "    child2[index[2]:index[3]] = choromosome1[index[2]:index[3]]\n",
    "    return child1, child2"
   ]
  },
  {
   "cell_type": "code",
   "execution_count": 439,
   "metadata": {},
   "outputs": [],
   "source": [
    "# uniform crossover\n",
    "def crossoveruniform(choromosome1, choromosome2):\n",
    "    child1 = copy.deepcopy(choromosome1)\n",
    "    child2 = copy.deepcopy(choromosome2)\n",
    "    for i in range(S):\n",
    "        if random.random() < 0.5:\n",
    "            try:\n",
    "                 child1[i] = choromosome2[i]\n",
    "                 child2[i] = choromosome1[i]\n",
    "            except:\n",
    "                print(\"error\")\n",
    "                print(i)\n",
    "                print(choromosome1)\n",
    "                print(choromosome2)\n",
    "                print(child1)\n",
    "                print(child2)\n",
    "                print(\"error\")\n",
    "\n",
    "    return child1, child2"
   ]
  },
  {
   "cell_type": "code",
   "execution_count": 440,
   "metadata": {},
   "outputs": [],
   "source": [
    "# mutation function\n",
    "def mutation(choromosome):\n",
    "    for i in range(S) :\n",
    "        index = random.randint(0, 2)\n",
    "        if random.random() < MUT_RATE:\n",
    "            if index == 0:\n",
    "                choromosome[i][index] = random.randint(0, K)\n",
    "            elif index == 1:\n",
    "                choromosome[i][index] = random.randint(0, M)\n",
    "            elif index == 2:\n",
    "                choromosome[i][index] = random.randint(0, N)\n",
    "        return choromosome\n"
   ]
  },
  {
   "cell_type": "code",
   "execution_count": 441,
   "metadata": {},
   "outputs": [],
   "source": [
    "\n",
    "def tournament_selection(population, k):\n",
    "    best = None\n",
    "    fitness = POP_fitness\n",
    "    for i in range(k):\n",
    "        candidate = random.randint(0, len(population)-1)\n",
    "        # print(candidate)\n",
    "        if best is None or fitness[candidate] < fitness[best]:\n",
    "            best = candidate\n",
    "    return population[best]\n",
    "\n",
    "\n",
    "\n"
   ]
  },
  {
   "cell_type": "code",
   "execution_count": 442,
   "metadata": {},
   "outputs": [],
   "source": [
    "# roulette wheel selection function\n",
    "def roulette_wheel_selection(population):\n",
    "    fitness = POP_fitness\n",
    "    total_fitness = sum(fitness)\n",
    "    r = random.uniform(0, total_fitness)\n",
    "    # print(r)\n",
    "    upto = 0\n",
    "    for i in range(len(population)):\n",
    "        if upto + fitness[i] >= r:\n",
    "            return population[i]\n",
    "        upto += fitness[i]\n",
    "    \n"
   ]
  },
  {
   "cell_type": "code",
   "execution_count": 443,
   "metadata": {},
   "outputs": [],
   "source": [
    "# SUS selection function\n",
    "def SUS_selection(population):\n",
    "    fitness = POP_fitness\n",
    "    total_fitness = sum(fitness)\n",
    "    r = random.uniform(0, total_fitness/len(population))\n",
    "    upto = 0\n",
    "    for i in range(len(population)):\n",
    "        if upto + fitness[i] >= r:\n",
    "            return population[i]\n",
    "        upto += fitness[i]"
   ]
  },
  {
   "cell_type": "code",
   "execution_count": 444,
   "metadata": {},
   "outputs": [],
   "source": [
    "# genetic algorithm with 1% elitism\n",
    "def genetic_algorithm_1():\n",
    "    population = init(POP)\n",
    "    best_fitness = []\n",
    "    mean_fitness = []\n",
    "    best_parent = None\n",
    "    best_parent_fitness = None\n",
    "    global POP_fitness\n",
    "    for i in range(GEN):\n",
    "        POP_fitness = pop_fitness(population)\n",
    "        if(i != 0):\n",
    "            # print(\"best fitness: \", best_parent_fitness)\n",
    "            population[POP_fitness.index(min(POP_fitness))] = best_parent\n",
    "            POP_fitness[POP_fitness.index(min(POP_fitness))] = best_parent_fitness\n",
    "\n",
    "        best_fitness.append(max(POP_fitness))\n",
    "        mean_fitness.append(sum(POP_fitness)/len(POP_fitness))\n",
    "        print(\"generation \", i+1 )  \n",
    "        best_parent = population[POP_fitness.index(max(POP_fitness))]\n",
    "        best_parent_fitness = max(POP_fitness)\n",
    "        new_population = []\n",
    "        for j in range(POP//2):\n",
    "\n",
    "            parent1 = tournament_selection(population , 2000)\n",
    "            parent2 = tournament_selection(population , 2000)\n",
    "            child1, child2 = crossoveruniform(parent1, parent2)\n",
    "            child1 = mutation(child1)\n",
    "            child2 = mutation(child2)\n",
    "            new_population.append(child1)\n",
    "            new_population.append(child2)\n",
    "\n",
    "        population = new_population\n",
    "\n",
    "    return best_fitness , mean_fitness"
   ]
  },
  {
   "cell_type": "code",
   "execution_count": 445,
   "metadata": {},
   "outputs": [],
   "source": [
    "# second genetic algorithm with 98% elitism\n",
    "def genetic_algorithm_98():\n",
    "    population = init(POP)\n",
    "    best_fitness = []\n",
    "    mean_fitness = []\n",
    "    best_parent = None\n",
    "    best_parent_fitness = None\n",
    "    global POP_fitness\n",
    "    for i in range(GEN):\n",
    "        print(\"generation \", i+1 )\n",
    "        \n",
    "        POP_fitness = pop_fitness(population)\n",
    "        best_fitness.append(max(POP_fitness))\n",
    "        mean_fitness.append(sum(POP_fitness)/len(POP_fitness))\n",
    "\n",
    "        best_parent = population[POP_fitness.index(max(POP_fitness))]\n",
    "        best_parent_fitness = max(POP_fitness)\n",
    "\n",
    "        parent1 = tournament_selection(population , 5)\n",
    "        parent2 = tournament_selection(population , 5)\n",
    "        child1, child2 = crossoveruniform(parent1, parent2)\n",
    "\n",
    "        child1 = mutation(child1)\n",
    "        child2 = mutation(child2)\n",
    "        \n",
    "        population[POP_fitness.index(min(POP_fitness))] = child1\n",
    "        POP_fitness[POP_fitness.index(min(POP_fitness))] = calculate_fitness(child1)\n",
    "        population[POP_fitness.index(min(POP_fitness))] = child2\n",
    "        POP_fitness[POP_fitness.index(min(POP_fitness))] = calculate_fitness(child2)\n",
    "\n",
    "            \n",
    "    return best_fitness , mean_fitness"
   ]
  },
  {
   "cell_type": "code",
   "execution_count": 446,
   "metadata": {},
   "outputs": [],
   "source": [
    "# main function\n",
    "def main():\n",
    "\n",
    "    best_fitness, mean_fitness = genetic_algorithm_98()\n",
    "    # best_fitness, mean_fitness = genetic_algorithm_1()\n",
    "    \n",
    "    plt.plot(best_fitness)\n",
    "    plt.xlabel(\"Generation\")\n",
    "    plt.ylabel(\"Fitness\")\n",
    "    plt.title(\"Best Fitness\")\n",
    "    plt.show()\n",
    "    # plot the mean fitness\n",
    "    plt.plot(mean_fitness)\n",
    "    plt.xlabel(\"Generation\")\n",
    "    plt.ylabel(\"Mean Fitness\")\n",
    "    plt.title(\"Mean Fitness\")\n",
    "    plt.show()\n"
   ]
  },
  {
   "cell_type": "code",
   "execution_count": null,
   "metadata": {},
   "outputs": [],
   "source": [
    "if __name__ == \"__main__\":\n",
    "    main()\n"
   ]
  }
 ],
 "metadata": {
  "kernelspec": {
   "display_name": "Python 3.10.6 64-bit",
   "language": "python",
   "name": "python3"
  },
  "language_info": {
   "codemirror_mode": {
    "name": "ipython",
    "version": 3
   },
   "file_extension": ".py",
   "mimetype": "text/x-python",
   "name": "python",
   "nbconvert_exporter": "python",
   "pygments_lexer": "ipython3",
   "version": "3.10.6"
  },
  "orig_nbformat": 4,
  "vscode": {
   "interpreter": {
    "hash": "018e254b4fb01f516223ee9e2481361177c4f54e2274d662e41cb14fd09fc37c"
   }
  }
 },
 "nbformat": 4,
 "nbformat_minor": 2
}
